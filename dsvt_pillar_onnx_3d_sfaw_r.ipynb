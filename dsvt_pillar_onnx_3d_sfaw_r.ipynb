{
 "cells": [
  {
   "cell_type": "code",
   "execution_count": 1,
   "id": "d8a7c2f9-d68f-4651-b663-87380244b790",
   "metadata": {},
   "outputs": [],
   "source": [
    "import os\n",
    "os.environ[\"CUDA_VISIBLE_DEVICES\"]=\"2\"\n",
    "\n",
    "# device = \"cuda:0\""
   ]
  },
  {
   "cell_type": "code",
   "execution_count": 2,
   "id": "3d4518bb-ceae-4d3f-8027-75cee5a81f5c",
   "metadata": {},
   "outputs": [],
   "source": [
    "# import sys\n",
    "\n",
    "# # Get the current directory\n",
    "\n",
    "# # Add the current directory to the Python path\n",
    "\n",
    "# sys.path.append('.')"
   ]
  },
  {
   "cell_type": "code",
   "execution_count": 3,
   "id": "80f66a20-a14b-4980-93b4-21ebd5c2b60c",
   "metadata": {},
   "outputs": [],
   "source": [
    "import torch\n",
    "import torch.onnx\n",
    "import torch.nn as nn\n",
    "import torch.nn.init as init\n",
    "import torch.utils.model_zoo as model_zoo\n",
    "from pcdet.config import cfg, cfg_from_yaml_file\n",
    "from pcdet.models import build_network\n",
    "from pcdet.datasets import build_dataloader\n",
    "from pcdet.utils import common_utils\n",
    "import os\n",
    "import numpy as np\n",
    "import torch\n",
    "# # import onnx\n",
    "import onnxruntime as ort\n",
    "import torch.nn as nn\n",
    "\n",
    "# from typing import Sequence, NamedTuple\n",
    "\n"
   ]
  },
  {
   "cell_type": "code",
   "execution_count": 4,
   "id": "fa75325f-2038-4319-9515-bd95bc9a5871",
   "metadata": {},
   "outputs": [
    {
     "ename": "FileExistsError",
     "evalue": "[Errno 17] File exists: './deploy/deploy_pillar_sfaw_3d_r'",
     "output_type": "error",
     "traceback": [
      "\u001b[0;31m---------------------------------------------------------------------------\u001b[0m",
      "\u001b[0;31mFileExistsError\u001b[0m                           Traceback (most recent call last)",
      "Cell \u001b[0;32mIn[4], line 5\u001b[0m\n\u001b[1;32m      3\u001b[0m cfg_from_yaml_file(cfg_file, cfg)\n\u001b[1;32m      4\u001b[0m \u001b[38;5;28;01mif\u001b[39;00m os\u001b[38;5;241m.\u001b[39mpath\u001b[38;5;241m.\u001b[39mexists(\u001b[38;5;124m'\u001b[39m\u001b[38;5;124m./deploy_pillar_sfaw_3d_r\u001b[39m\u001b[38;5;124m'\u001b[39m)\u001b[38;5;241m==\u001b[39m\u001b[38;5;28;01mFalse\u001b[39;00m:\n\u001b[0;32m----> 5\u001b[0m     \u001b[43mos\u001b[49m\u001b[38;5;241;43m.\u001b[39;49m\u001b[43mmkdir\u001b[49m\u001b[43m(\u001b[49m\u001b[38;5;124;43m'\u001b[39;49m\u001b[38;5;124;43m./deploy/deploy_pillar_sfaw_3d_r\u001b[39;49m\u001b[38;5;124;43m'\u001b[39;49m\u001b[43m)\u001b[49m\n\u001b[1;32m      6\u001b[0m log_file \u001b[38;5;241m=\u001b[39m \u001b[38;5;124m'\u001b[39m\u001b[38;5;124m./deploy/deploy_pillar_sfaw_3d_r/log_trt.log\u001b[39m\u001b[38;5;124m'\u001b[39m\n\u001b[1;32m      7\u001b[0m logger \u001b[38;5;241m=\u001b[39m common_utils\u001b[38;5;241m.\u001b[39mcreate_logger(log_file, rank\u001b[38;5;241m=\u001b[39m\u001b[38;5;241m0\u001b[39m)\n",
      "\u001b[0;31mFileExistsError\u001b[0m: [Errno 17] File exists: './deploy/deploy_pillar_sfaw_3d_r'"
     ]
    }
   ],
   "source": [
    "# cfg_file = \"./onnx_config.yaml\"\n",
    "cfg_file = \"./deploy/pillar/config.yaml\"\n",
    "cfg_from_yaml_file(cfg_file, cfg)\n",
    "if os.path.exists('./deploy_pillar_sfaw_3d_r')==False:\n",
    "    os.mkdir('./deploy/deploy_pillar_sfaw_3d_r')\n",
    "log_file = './deploy/deploy_pillar_sfaw_3d_r/log_trt.log'\n",
    "logger = common_utils.create_logger(log_file, rank=0)\n",
    "test_set, test_loader, sampler = build_dataloader(\n",
    "    dataset_cfg=cfg.DATA_CONFIG,\n",
    "    class_names=cfg.CLASS_NAMES,\n",
    "    batch_size=1,\n",
    "    dist=False, workers=8, logger=logger, training=False\n",
    ")"
   ]
  },
  {
   "cell_type": "code",
   "execution_count": null,
   "id": "657d9d46-db74-4033-9e7f-e1c66a0be44c",
   "metadata": {},
   "outputs": [],
   "source": [
    "model = build_network(model_cfg=cfg.MODEL, num_class=len(cfg.CLASS_NAMES), dataset=test_set)\n",
    "# cfg"
   ]
  },
  {
   "cell_type": "code",
   "execution_count": null,
   "id": "cbb466c4-a62b-4ab2-b1f7-29a489960051",
   "metadata": {
    "scrolled": true
   },
   "outputs": [],
   "source": [
    "ckpt = \"./pillar/model.pth\"\n",
    "model.load_params_from_file(filename=ckpt, logger=logger, to_cpu=False, pre_trained_path=None)\n",
    "model.eval()\n",
    "model.cuda()"
   ]
  },
  {
   "cell_type": "code",
   "execution_count": null,
   "id": "cb955ff2-6084-4e5c-844c-4b7591d79256",
   "metadata": {},
   "outputs": [],
   "source": [
    "# batch_dict = torch.load(\"./batch_dict.pth\", map_location=\"cuda\")\n",
    "# inputs = batch_dict\n",
    "# inputs"
   ]
  },
  {
   "cell_type": "code",
   "execution_count": null,
   "id": "6bfa6d63-b83b-48b7-8214-57a532a1d31e",
   "metadata": {},
   "outputs": [],
   "source": [
    "batch_dict = torch.load(\"/mnt/nas2/users/eslim/onnx/sfaw/input_dict.pth\", map_location=\"cuda\")\n",
    "\n",
    "inputs = batch_dict\n",
    "inputs"
   ]
  },
  {
   "cell_type": "code",
   "execution_count": null,
   "id": "23c7f64a-a817-4930-b55d-e78be5dc6526",
   "metadata": {},
   "outputs": [],
   "source": [
    "inputs_vfe = model.vfe(inputs)\n",
    "inputs_vfe\n"
   ]
  },
  {
   "cell_type": "code",
   "execution_count": null,
   "id": "3128c181-9fb1-4abb-8fad-5470b66a66d1",
   "metadata": {},
   "outputs": [],
   "source": [
    "# data_dict = {}\n",
    "input_dict = {}\n",
    "input_dict['batch_dict']={}\n",
    "input_dict['batch_dict']['voxel_features'] = inputs_vfe['voxel_features']\n",
    "input_dict['batch_dict']['use_lead_xyz'] = inputs_vfe['use_lead_xyz']\n",
    "input_dict['batch_dict']['batch_size'] = torch.tensor(inputs_vfe['batch_size']).to(device)\n",
    "input_dict['batch_dict']['pillar_features'] = inputs_vfe['pillar_features']\n",
    "input_dict['batch_dict']['voxel_coords'] = inputs_vfe['voxel_coords']\n",
    "# input_dict['batch_dict']['voxel_coords'] = inputs_vfe['voxel_coords']\n",
    "\n",
    "\n",
    "# data_dict.update(inputs_bev)\n",
    "# data_dict"
   ]
  },
  {
   "cell_type": "code",
   "execution_count": null,
   "id": "465822a2-6d58-497a-a330-280db138ccdf",
   "metadata": {},
   "outputs": [],
   "source": [
    "with torch.no_grad():\n",
    "    DSVT_3d_Backbone = model.backbone_3d\n",
    "    # dsvtblocks_list = DSVT_Backbone.stage_0\n",
    "    # layer_norms_list = DSVT_Backbone.residual_norm_stage_0\n",
    "    # inputs = model.vfe(inputs)\n",
    "    # voxel_info = DSVT_Backbone.input_layer(inputs)\n",
    "    # set_voxel_inds_list = [[voxel_info[f'set_voxel_inds_stage{s}_shift{i}'] for i in range(2)] for s in range(1)]\n",
    "    # set_voxel_masks_list = [[voxel_info[f'set_voxel_mask_stage{s}_shift{i}'] for i in range(2)] for s in range(1)]\n",
    "    # pos_embed_list = [[[voxel_info[f'pos_embed_stage{s}_block{b}_shift{i}'] for i in range(2)] for b in range(4)] for s in range(1)]\n",
    "\n"
   ]
  },
  {
   "cell_type": "code",
   "execution_count": null,
   "id": "50fd4127-aad9-4e22-a436-b874079dc080",
   "metadata": {},
   "outputs": [],
   "source": [
    "input_names = [\n",
    "    'voxel_features',\n",
    "    'use_lead_xyz',\n",
    "    'batch_size',\n",
    "    'pillar_features',\n",
    "    'voxel_coords',\n",
    "]\n",
    "output_names = [\"output\",]"
   ]
  },
  {
   "cell_type": "code",
   "execution_count": null,
   "id": "dcf6653b-c604-4643-be2a-1c4b9ab059d3",
   "metadata": {},
   "outputs": [],
   "source": [
    "base_name = \"./deploy_pillar_sfaw_3d_r/dsvt_3d\"\n",
    "ts_path = f\"{base_name}.ts\"\n",
    "onnx_path = f\"{base_name}.onnx\"\n",
    "\n",
    "# allptransblocktrt = AllDSVTBlocksTRT(dsvtblocks_list, layer_norms_list).eval().cuda()\n",
    "\n",
    "torch.onnx.export(\n",
    "    DSVT_3d_Backbone,\n",
    "    # alldsvtblockstrt_inputs,\n",
    "    input_dict,\n",
    "    onnx_path, \n",
    "    input_names=input_names,\n",
    "    output_names=output_names, \n",
    "    # dynamic_axes=dynamic_axes,\n",
    "    opset_version=14,\n",
    ")\n",
    "# https://github.com/Haiyang-W/DSVT/issues/60"
   ]
  },
  {
   "cell_type": "code",
   "execution_count": null,
   "id": "94806e45-a969-4b21-93f2-79143b2911d1",
   "metadata": {},
   "outputs": [],
   "source": [
    "# # test onnx\n",
    "# ort_session = ort.InferenceSession(onnx_path)\n",
    "# def to_numpy(tensor):\n",
    "#     return tensor.detach().cpu().numpy() if tensor.requires_grad else tensor.cpu().numpy()\n",
    "\n",
    "# # compute ONNX Runtime output prediction\n",
    "# ort_inputs = {ort_session.get_inputs()[0].name: to_numpy(pillar_features),\n",
    "#               ort_session.get_inputs()[1].name: to_numpy(set_voxel_inds_list[0][0]),\n",
    "#               ort_session.get_inputs()[2].name: to_numpy(set_voxel_inds_list[0][1]),\n",
    "#               ort_session.get_inputs()[3].name: to_numpy(set_voxel_masks_list[0][0]),\n",
    "#               ort_session.get_inputs()[4].name: to_numpy(set_voxel_masks_list[0][1]),\n",
    "#               ort_session.get_inputs()[5].name: to_numpy(torch.stack([torch.stack(v, dim=0) for v in pos_embed_list[0]], dim=0)),}\n",
    "# ort_outs = ort_session.run(None, ort_inputs)\n",
    "# ort_outs[0].shape\n"
   ]
  },
  {
   "cell_type": "code",
   "execution_count": null,
   "id": "c0040d80-12dc-4646-a105-e3e92a6b8f03",
   "metadata": {},
   "outputs": [],
   "source": []
  },
  {
   "cell_type": "code",
   "execution_count": null,
   "id": "31ca47d4-fbb2-49d8-adc3-cc1e7e7cdddc",
   "metadata": {},
   "outputs": [],
   "source": []
  }
 ],
 "metadata": {
  "kernelspec": {
   "display_name": "Python 3 (ipykernel)",
   "language": "python",
   "name": "python3"
  },
  "language_info": {
   "codemirror_mode": {
    "name": "ipython",
    "version": 3
   },
   "file_extension": ".py",
   "mimetype": "text/x-python",
   "name": "python",
   "nbconvert_exporter": "python",
   "pygments_lexer": "ipython3",
   "version": "3.8.10"
  }
 },
 "nbformat": 4,
 "nbformat_minor": 5
}
